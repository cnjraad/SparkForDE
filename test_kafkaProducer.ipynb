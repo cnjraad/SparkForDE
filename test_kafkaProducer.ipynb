{
 "cells": [
  {
   "cell_type": "code",
   "execution_count": 5,
   "metadata": {},
   "outputs": [],
   "source": [
    "from kafka import KafkaProducer, KafkaConsumer\n",
    "from kafka import KafkaClient\n",
    "import io\n",
    "import random\n",
    "import avro.schema\n",
    "from avro.io import DatumWriter\n",
    "import json\n",
    "import uuid"
   ]
  },
  {
   "cell_type": "code",
   "execution_count": 6,
   "metadata": {},
   "outputs": [],
   "source": [
    "topic = 'operacoes'\n",
    "bootstrapServers = 'localhost:9092'\n",
    "\n",
    "data = {'codigoCliente': 1, \n",
    "        'agencia': 4455, \n",
    "        'valOperacao': 150.82, \n",
    "        'tipOperacao': 'Saque', \n",
    "        'Data': '29/06/2022', \n",
    "        'saldoEmConta': 300.82 }\n",
    "\n",
    "producer = KafkaProducer( bootstrap_servers=bootstrapServers)"
   ]
  },
  {
   "cell_type": "code",
   "execution_count": 7,
   "metadata": {},
   "outputs": [],
   "source": [
    "# Path to user.avsc avro schema\n",
    "schema_path = \"operacoes.avsc\"\n",
    "schema = avro.schema.parse(open(schema_path,\"r\").read())\n",
    "\n",
    "writer = avro.io.DatumWriter(schema)\n",
    "bytes_writer = io.BytesIO()\n",
    "encoder = avro.io.BinaryEncoder(bytes_writer)\n",
    "writer.write(data, encoder)\n",
    "raw_bytes = bytes_writer.getvalue()\n",
    "# producer.produce(topic, raw_bytes)\n",
    "# producer.flush()"
   ]
  },
  {
   "cell_type": "code",
   "execution_count": 8,
   "metadata": {},
   "outputs": [
    {
     "data": {
      "text/plain": [
       "<kafka.producer.future.FutureRecordMetadata at 0x7ff085547f10>"
      ]
     },
     "execution_count": 8,
     "metadata": {},
     "output_type": "execute_result"
    }
   ],
   "source": [
    "producer.send(topic, raw_bytes)"
   ]
  }
 ],
 "metadata": {
  "kernelspec": {
   "display_name": "Python 3.8.10 64-bit",
   "language": "python",
   "name": "python3"
  },
  "language_info": {
   "codemirror_mode": {
    "name": "ipython",
    "version": 3
   },
   "file_extension": ".py",
   "mimetype": "text/x-python",
   "name": "python",
   "nbconvert_exporter": "python",
   "pygments_lexer": "ipython3",
   "version": "3.8.10"
  },
  "orig_nbformat": 4,
  "vscode": {
   "interpreter": {
    "hash": "916dbcbb3f70747c44a77c7bcd40155683ae19c65e1c03b4aa3499c5328201f1"
   }
  }
 },
 "nbformat": 4,
 "nbformat_minor": 2
}
